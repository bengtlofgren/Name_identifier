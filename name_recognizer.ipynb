{
 "cells": [
  {
   "cell_type": "code",
   "execution_count": 28,
   "metadata": {},
   "outputs": [],
   "source": [
    "import pandas as pd\n",
    "import os\n",
    "\n",
    "boy_df = pd.read_csv('./boys_names_sweden.csv')\n",
    "girl_df = pd.read_csv('./girls_names_sweden.csv')"
   ]
  },
  {
   "cell_type": "code",
   "execution_count": 33,
   "metadata": {},
   "outputs": [],
   "source": [
    "\n",
    "def clean_df(df):\n",
    "    df = df.dropna()\n",
    "    cleaned = df.iloc[1:, 0].reset_index().drop(columns = 'index').rename(columns = {\"Unnamed: 0\": \"names\"})\n",
    "    return cleaned\n",
    "\n",
    "boys = clean_df(boy_df)\n",
    "girls = clean_df(girl_df)"
   ]
  },
  {
   "cell_type": "code",
   "execution_count": 45,
   "metadata": {},
   "outputs": [],
   "source": [
    "boys_list = boys.names.tolist()\n",
    "girls_list = girls.names.tolist()"
   ]
  },
  {
   "cell_type": "code",
   "execution_count": 44,
   "metadata": {},
   "outputs": [],
   "source": [
    "boy_set = set(boys_list)\n",
    "girl_set = set(girls_list)\n",
    "\n",
    "boy_and_girl_set = boy_set.intersection(girl_set)\n",
    "boy_and_girl_names = list(boy_and_girl_set)\n",
    "\n",
    "boy_names = list(boy_set - boy_and_girl_set)\n",
    "girl_names = list(girl_set - boy_and_girl_set)\n"
   ]
  },
  {
   "cell_type": "code",
   "execution_count": 51,
   "metadata": {},
   "outputs": [],
   "source": [
    "import json\n",
    "filenames = ['boy_names.json', 'girl_names.json', 'boy_and_girl_names.json']\n",
    "name_dict = {}\n",
    "for filename in filenames:\n",
    "    with open(filename) as f:\n",
    "        name_dict.update({filename.split('.')[0] : json.load(f)})\n",
    "        \n",
    "boy_names = name_dict[\"boy_names\"]\n",
    "girl_names = name_dict[\"girl_names\"]\n",
    "boy_and_girl_names = name_dict[\"boy_and_girl_names\"]"
   ]
  },
  {
   "cell_type": "code",
   "execution_count": 60,
   "metadata": {},
   "outputs": [],
   "source": [
    "def is_male(row, column_name):\n",
    "    name = row[column_name]\n",
    "    \n",
    "    if name in boy_names:\n",
    "        return 1\n",
    "    elif name in girl_names:\n",
    "        return -1\n",
    "    else:\n",
    "        return 0\n",
    "\n",
    "def irecommend_df(csv_file_path : str, name_column : str , sensitive_columns : list = None):\n",
    "    \n",
    "    df = pd.read_csv(csv_file_path)\n",
    "    df['is_male'] = df.apply(is_male, axis = 1, args = [names])\n",
    "    \n",
    "    if sensitive_columns:\n",
    "        try:\n",
    "            df = df.drop(columns = sensitive_columns)\n",
    "        except:\n",
    "            pass\n",
    "    \n",
    "    return df\n",
    "\n",
    "def save_df(df, filepath = './bengts_data.csv'):\n",
    "    df.to_csv(filepath)\n",
    "    \n"
   ]
  },
  {
   "cell_type": "code",
   "execution_count": 79,
   "metadata": {},
   "outputs": [
    {
     "data": {
      "text/html": [
       "<div>\n",
       "<style scoped>\n",
       "    .dataframe tbody tr th:only-of-type {\n",
       "        vertical-align: middle;\n",
       "    }\n",
       "\n",
       "    .dataframe tbody tr th {\n",
       "        vertical-align: top;\n",
       "    }\n",
       "\n",
       "    .dataframe thead th {\n",
       "        text-align: right;\n",
       "    }\n",
       "</style>\n",
       "<table border=\"1\" class=\"dataframe\">\n",
       "  <thead>\n",
       "    <tr style=\"text-align: right;\">\n",
       "      <th></th>\n",
       "      <th>names</th>\n",
       "      <th>is_male</th>\n",
       "    </tr>\n",
       "  </thead>\n",
       "  <tbody>\n",
       "    <tr>\n",
       "      <th>0</th>\n",
       "      <td>Benji</td>\n",
       "      <td>1</td>\n",
       "    </tr>\n",
       "    <tr>\n",
       "      <th>1</th>\n",
       "      <td>Amar</td>\n",
       "      <td>1</td>\n",
       "    </tr>\n",
       "    <tr>\n",
       "      <th>2</th>\n",
       "      <td>Roberto</td>\n",
       "      <td>1</td>\n",
       "    </tr>\n",
       "    <tr>\n",
       "      <th>3</th>\n",
       "      <td>Wille</td>\n",
       "      <td>1</td>\n",
       "    </tr>\n",
       "    <tr>\n",
       "      <th>4</th>\n",
       "      <td>Arian</td>\n",
       "      <td>1</td>\n",
       "    </tr>\n",
       "    <tr>\n",
       "      <th>...</th>\n",
       "      <td>...</td>\n",
       "      <td>...</td>\n",
       "    </tr>\n",
       "    <tr>\n",
       "      <th>2006</th>\n",
       "      <td>Antonia</td>\n",
       "      <td>-1</td>\n",
       "    </tr>\n",
       "    <tr>\n",
       "      <th>2007</th>\n",
       "      <td>Rania</td>\n",
       "      <td>-1</td>\n",
       "    </tr>\n",
       "    <tr>\n",
       "      <th>2008</th>\n",
       "      <td>Asia</td>\n",
       "      <td>-1</td>\n",
       "    </tr>\n",
       "    <tr>\n",
       "      <th>2009</th>\n",
       "      <td>Aleah</td>\n",
       "      <td>-1</td>\n",
       "    </tr>\n",
       "    <tr>\n",
       "      <th>2010</th>\n",
       "      <td>Petra</td>\n",
       "      <td>-1</td>\n",
       "    </tr>\n",
       "  </tbody>\n",
       "</table>\n",
       "<p>2011 rows × 2 columns</p>\n",
       "</div>"
      ],
      "text/plain": [
       "        names  is_male\n",
       "0       Benji        1\n",
       "1        Amar        1\n",
       "2     Roberto        1\n",
       "3       Wille        1\n",
       "4       Arian        1\n",
       "...       ...      ...\n",
       "2006  Antonia       -1\n",
       "2007    Rania       -1\n",
       "2008     Asia       -1\n",
       "2009    Aleah       -1\n",
       "2010    Petra       -1\n",
       "\n",
       "[2011 rows x 2 columns]"
      ]
     },
     "execution_count": 79,
     "metadata": {},
     "output_type": "execute_result"
    }
   ],
   "source": [
    "df = pd.DataFrame(boy_names + girl_names, columns = ['names'])\n",
    "df['is_male'] = df.apply(is_male, axis = 1, args = ['names'])\n",
    "df"
   ]
  },
  {
   "cell_type": "code",
   "execution_count": 80,
   "metadata": {},
   "outputs": [],
   "source": [
    "import numpy as np\n",
    "from numpy import array\n",
    "from numpy import argmax\n",
    "from keras.layers.core import Dense, Activation, Dropout\n",
    "from keras.preprocessing import sequence\n",
    "from keras.models import Sequential\n",
    "from keras.layers import Dense, Embedding\n",
    "from keras.layers import LSTM\n",
    "\n",
    "filepath = 'd:/AS_Data/temp/name_test.csv'\n",
    "max_rows = 500000 # Reduction due to memory limitations\n",
    "\n",
    "\n",
    "# In the case of a middle name, we will simply use the first name only\n",
    "df['names'] = df['names'].apply(lambda x: str(x).split(' ', 1)[0])\n",
    "\n",
    "# Sometimes people only but the first letter of their name into the field, so we drop all name where len <3\n",
    "df.drop(df[df['names'].str.len() < 3].index, inplace=True)"
   ]
  },
  {
   "cell_type": "code",
   "execution_count": 81,
   "metadata": {},
   "outputs": [
    {
     "data": {
      "text/html": [
       "<div>\n",
       "<style scoped>\n",
       "    .dataframe tbody tr th:only-of-type {\n",
       "        vertical-align: middle;\n",
       "    }\n",
       "\n",
       "    .dataframe tbody tr th {\n",
       "        vertical-align: top;\n",
       "    }\n",
       "\n",
       "    .dataframe thead th {\n",
       "        text-align: right;\n",
       "    }\n",
       "</style>\n",
       "<table border=\"1\" class=\"dataframe\">\n",
       "  <thead>\n",
       "    <tr style=\"text-align: right;\">\n",
       "      <th></th>\n",
       "      <th>names</th>\n",
       "      <th>is_male</th>\n",
       "    </tr>\n",
       "  </thead>\n",
       "  <tbody>\n",
       "    <tr>\n",
       "      <th>0</th>\n",
       "      <td>Benji</td>\n",
       "      <td>1</td>\n",
       "    </tr>\n",
       "    <tr>\n",
       "      <th>1</th>\n",
       "      <td>Amar</td>\n",
       "      <td>1</td>\n",
       "    </tr>\n",
       "    <tr>\n",
       "      <th>2</th>\n",
       "      <td>Roberto</td>\n",
       "      <td>1</td>\n",
       "    </tr>\n",
       "    <tr>\n",
       "      <th>3</th>\n",
       "      <td>Wille</td>\n",
       "      <td>1</td>\n",
       "    </tr>\n",
       "    <tr>\n",
       "      <th>4</th>\n",
       "      <td>Arian</td>\n",
       "      <td>1</td>\n",
       "    </tr>\n",
       "    <tr>\n",
       "      <th>...</th>\n",
       "      <td>...</td>\n",
       "      <td>...</td>\n",
       "    </tr>\n",
       "    <tr>\n",
       "      <th>2006</th>\n",
       "      <td>Antonia</td>\n",
       "      <td>-1</td>\n",
       "    </tr>\n",
       "    <tr>\n",
       "      <th>2007</th>\n",
       "      <td>Rania</td>\n",
       "      <td>-1</td>\n",
       "    </tr>\n",
       "    <tr>\n",
       "      <th>2008</th>\n",
       "      <td>Asia</td>\n",
       "      <td>-1</td>\n",
       "    </tr>\n",
       "    <tr>\n",
       "      <th>2009</th>\n",
       "      <td>Aleah</td>\n",
       "      <td>-1</td>\n",
       "    </tr>\n",
       "    <tr>\n",
       "      <th>2010</th>\n",
       "      <td>Petra</td>\n",
       "      <td>-1</td>\n",
       "    </tr>\n",
       "  </tbody>\n",
       "</table>\n",
       "<p>2008 rows × 2 columns</p>\n",
       "</div>"
      ],
      "text/plain": [
       "        names  is_male\n",
       "0       Benji        1\n",
       "1        Amar        1\n",
       "2     Roberto        1\n",
       "3       Wille        1\n",
       "4       Arian        1\n",
       "...       ...      ...\n",
       "2006  Antonia       -1\n",
       "2007    Rania       -1\n",
       "2008     Asia       -1\n",
       "2009    Aleah       -1\n",
       "2010    Petra       -1\n",
       "\n",
       "[2008 rows x 2 columns]"
      ]
     },
     "execution_count": 81,
     "metadata": {},
     "output_type": "execute_result"
    }
   ],
   "source": []
  },
  {
   "cell_type": "code",
   "execution_count": 82,
   "metadata": {},
   "outputs": [
    {
     "name": "stdout",
     "output_type": "stream",
     "text": [
      "The input vector will have the shape 12x30.\n"
     ]
    }
   ],
   "source": [
    "predictor_col = 'names'\n",
    "result_col = 'is_male'\n",
    "\n",
    "accepted_chars = 'abcdefghijklmnopqrstuvwxyzöäü-'\n",
    "\n",
    "word_vec_length = min(df[predictor_col].apply(len).max(), 25) # Length of the input vector\n",
    "char_vec_length = len(accepted_chars) # Length of the character vector\n",
    "output_labels = 2 # Number of output labels\n",
    "\n",
    "print(f\"The input vector will have the shape {word_vec_length}x{char_vec_length}.\")"
   ]
  },
  {
   "cell_type": "code",
   "execution_count": 101,
   "metadata": {},
   "outputs": [],
   "source": [
    "# Define a mapping of chars to integers\n",
    "char_to_int = dict((c, i) for i, c in enumerate(accepted_chars))\n",
    "int_to_char = dict((i, c) for i, c in enumerate(accepted_chars))\n",
    "\n",
    "# Removes all non accepted characters\n",
    "def normalize(line):\n",
    "    return [c.lower() for c in line if c.lower() in accepted_chars]\n",
    "\n",
    "# Returns a list of n lists with n = word_vec_length\n",
    "def name_encoding(name):\n",
    "\n",
    "    # Encode input data to int, e.g. a->1, z->26\n",
    "    integer_encoded = [char_to_int[char] for i, char in enumerate(name) if i < word_vec_length]\n",
    "    \n",
    "    # Start one-hot-encoding\n",
    "    onehot_encoded = list()\n",
    "    \n",
    "    for value in integer_encoded:\n",
    "        # create a list of n zeros, where n is equal to the number of accepted characters\n",
    "        letter = [0 for _ in range(char_vec_length)]\n",
    "        letter[value] = 1\n",
    "        onehot_encoded.append(letter)\n",
    "        \n",
    "    # Fill up list to the max length. Lists need do have equal length to be able to convert it into an array\n",
    "    for _ in range(word_vec_length - len(name)):\n",
    "        onehot_encoded.append([0 for _ in range(char_vec_length)])\n",
    "        \n",
    "    return onehot_encoded\n",
    "\n",
    "# Encode the output labels\n",
    "def label_encoding(gender_series):\n",
    "    labels = np.empty((0, 2))\n",
    "    for i in gender_series:\n",
    "        if i == 1:\n",
    "            labels = np.append(labels, [[1,0]], axis=0)\n",
    "        else:\n",
    "            labels = np.append(labels, [[0,1]], axis=0)\n",
    "    return labels"
   ]
  },
  {
   "cell_type": "code",
   "execution_count": 145,
   "metadata": {},
   "outputs": [],
   "source": [
    "# Split dataset in 60% train, 20% test and 20% validation\n",
    "train, validate, test = np.split(df.sample(frac=1), [int(.6*len(df)), int(.8*len(df))])\n",
    "\n",
    "# Convert both the input names as well as the output lables into the discussed machine readable vector format\n",
    "train_x =  np.asarray([np.asarray(name_encoding(normalize(name))) for name in train[predictor_col]])\n",
    "train_y = label_encoding(train.is_male)\n",
    "\n",
    "validate_x = np.asarray([name_encoding(normalize(name)) for name in validate[predictor_col]])\n",
    "validate_y = label_encoding(validate.is_male)\n",
    "\n",
    "test_x = np.asarray([name_encoding(normalize(name)) for name in test[predictor_col]])\n",
    "test_y = label_encoding(test.is_male)\n"
   ]
  },
  {
   "cell_type": "code",
   "execution_count": 127,
   "metadata": {},
   "outputs": [
    {
     "name": "stdout",
     "output_type": "stream",
     "text": [
      "The number of hidden nodes is 240.\n"
     ]
    }
   ],
   "source": [
    "hidden_nodes = int(2/3 * (word_vec_length * char_vec_length))\n",
    "print(f\"The number of hidden nodes is {hidden_nodes}.\")"
   ]
  },
  {
   "cell_type": "code",
   "execution_count": 146,
   "metadata": {},
   "outputs": [
    {
     "name": "stdout",
     "output_type": "stream",
     "text": [
      "Build model...\n"
     ]
    }
   ],
   "source": [
    "# Build the model\n",
    "print('Build model...')\n",
    "model = Sequential()\n",
    "model.add(LSTM(hidden_nodes, return_sequences=False, input_shape=(word_vec_length, char_vec_length)))\n",
    "model.add(Dropout(0.2))\n",
    "model.add(Dense(units=output_labels))\n",
    "model.add(Activation('softmax'))\n",
    "model.compile(loss='categorical_crossentropy', optimizer='adam', metrics=['acc'])"
   ]
  },
  {
   "cell_type": "code",
   "execution_count": 147,
   "metadata": {},
   "outputs": [
    {
     "name": "stdout",
     "output_type": "stream",
     "text": [
      "(1204, 12, 30)\n",
      "Epoch 1/50\n",
      "38/38 [==============================] - 1s 32ms/step - loss: 0.6539 - acc: 0.6038 - val_loss: 0.6198 - val_acc: 0.6915\n",
      "Epoch 2/50\n",
      "38/38 [==============================] - 1s 22ms/step - loss: 0.5821 - acc: 0.7060 - val_loss: 0.5569 - val_acc: 0.7164\n",
      "Epoch 3/50\n",
      "38/38 [==============================] - 1s 22ms/step - loss: 0.5450 - acc: 0.7342 - val_loss: 0.5865 - val_acc: 0.6741\n",
      "Epoch 4/50\n",
      "38/38 [==============================] - 1s 25ms/step - loss: 0.5305 - acc: 0.7450 - val_loss: 0.5790 - val_acc: 0.6816\n",
      "Epoch 5/50\n",
      "38/38 [==============================] - 1s 29ms/step - loss: 0.5196 - acc: 0.7375 - val_loss: 0.6467 - val_acc: 0.6891\n",
      "Epoch 6/50\n",
      "38/38 [==============================] - 1s 26ms/step - loss: 0.5283 - acc: 0.7425 - val_loss: 0.5441 - val_acc: 0.7090\n",
      "Epoch 7/50\n",
      "38/38 [==============================] - 1s 22ms/step - loss: 0.5017 - acc: 0.7533 - val_loss: 0.5650 - val_acc: 0.7164\n",
      "Epoch 8/50\n",
      "38/38 [==============================] - 1s 25ms/step - loss: 0.4848 - acc: 0.7625 - val_loss: 0.5463 - val_acc: 0.7114\n",
      "Epoch 9/50\n",
      "38/38 [==============================] - 1s 26ms/step - loss: 0.4704 - acc: 0.7641 - val_loss: 0.5462 - val_acc: 0.7562\n",
      "Epoch 10/50\n",
      "38/38 [==============================] - 1s 27ms/step - loss: 0.4617 - acc: 0.7757 - val_loss: 0.5108 - val_acc: 0.7015\n",
      "Epoch 11/50\n",
      "38/38 [==============================] - 1s 35ms/step - loss: 0.4477 - acc: 0.7882 - val_loss: 0.4893 - val_acc: 0.7935\n",
      "Epoch 12/50\n",
      "38/38 [==============================] - 1s 29ms/step - loss: 0.4323 - acc: 0.7998 - val_loss: 0.5105 - val_acc: 0.7861\n",
      "Epoch 13/50\n",
      "38/38 [==============================] - 2s 49ms/step - loss: 0.4135 - acc: 0.7982 - val_loss: 0.5655 - val_acc: 0.7338\n",
      "Epoch 14/50\n",
      "38/38 [==============================] - 2s 40ms/step - loss: 0.4107 - acc: 0.8115 - val_loss: 0.4698 - val_acc: 0.7960\n",
      "Epoch 15/50\n",
      "38/38 [==============================] - 1s 35ms/step - loss: 0.3765 - acc: 0.8164 - val_loss: 0.4885 - val_acc: 0.7985\n",
      "Epoch 16/50\n",
      "38/38 [==============================] - 1s 34ms/step - loss: 0.3775 - acc: 0.8206 - val_loss: 0.5027 - val_acc: 0.8060\n",
      "Epoch 17/50\n",
      "38/38 [==============================] - 1s 38ms/step - loss: 0.3659 - acc: 0.8322 - val_loss: 0.4571 - val_acc: 0.8109\n",
      "Epoch 18/50\n",
      "38/38 [==============================] - 1s 27ms/step - loss: 0.3628 - acc: 0.8314 - val_loss: 0.5189 - val_acc: 0.7985\n",
      "Epoch 19/50\n",
      "38/38 [==============================] - 1s 29ms/step - loss: 0.3360 - acc: 0.8397 - val_loss: 0.5507 - val_acc: 0.8159\n",
      "Epoch 20/50\n",
      "38/38 [==============================] - 1s 25ms/step - loss: 0.3518 - acc: 0.8355 - val_loss: 0.6009 - val_acc: 0.7662\n",
      "Epoch 21/50\n",
      "38/38 [==============================] - 1s 23ms/step - loss: 0.3362 - acc: 0.8439 - val_loss: 0.5547 - val_acc: 0.8085\n",
      "Epoch 22/50\n",
      "38/38 [==============================] - 1s 23ms/step - loss: 0.3209 - acc: 0.8472 - val_loss: 0.5675 - val_acc: 0.7910\n",
      "Epoch 23/50\n",
      "38/38 [==============================] - 1s 26ms/step - loss: 0.3237 - acc: 0.8497 - val_loss: 0.5588 - val_acc: 0.8085\n",
      "Epoch 24/50\n",
      "38/38 [==============================] - 1s 26ms/step - loss: 0.3216 - acc: 0.8530 - val_loss: 0.5364 - val_acc: 0.8234\n",
      "Epoch 25/50\n",
      "38/38 [==============================] - 1s 29ms/step - loss: 0.3010 - acc: 0.8580 - val_loss: 0.6201 - val_acc: 0.8085\n",
      "Epoch 26/50\n",
      "38/38 [==============================] - 1s 30ms/step - loss: 0.2842 - acc: 0.8638 - val_loss: 0.5347 - val_acc: 0.8259\n",
      "Epoch 27/50\n",
      "38/38 [==============================] - 1s 27ms/step - loss: 0.2939 - acc: 0.8746 - val_loss: 0.5116 - val_acc: 0.8284\n"
     ]
    },
    {
     "data": {
      "text/plain": [
       "<tensorflow.python.keras.callbacks.History at 0x14292c898>"
      ]
     },
     "execution_count": 147,
     "metadata": {},
     "output_type": "execute_result"
    }
   ],
   "source": [
    "from keras.callbacks import EarlyStopping\n",
    "es = EarlyStopping(monitor = 'val_loss', patience = 10)\n",
    "batch_size=32\n",
    "print(train_x.shape)\n",
    "model.fit(train_x, train_y, batch_size=batch_size, epochs=50, validation_data=(validate_x, validate_y), callbacks = [es])"
   ]
  },
  {
   "cell_type": "code",
   "execution_count": 130,
   "metadata": {},
   "outputs": [
    {
     "name": "stdout",
     "output_type": "stream",
     "text": [
      "WARNING:tensorflow:From /Library/Frameworks/Python.framework/Versions/3.7/lib/python3.7/site-packages/tensorflow/python/training/tracking/tracking.py:111: Model.state_updates (from tensorflow.python.keras.engine.training) is deprecated and will be removed in a future version.\n",
      "Instructions for updating:\n",
      "This property should not be used in TensorFlow 2.0, as updates are applied automatically.\n",
      "WARNING:tensorflow:From /Library/Frameworks/Python.framework/Versions/3.7/lib/python3.7/site-packages/tensorflow/python/training/tracking/tracking.py:111: Layer.updates (from tensorflow.python.keras.engine.base_layer) is deprecated and will be removed in a future version.\n",
      "Instructions for updating:\n",
      "This property should not be used in TensorFlow 2.0, as updates are applied automatically.\n",
      "INFO:tensorflow:Assets written to: gender_identifier/assets\n"
     ]
    }
   ],
   "source": [
    "model.save(\"gender_identifier\")"
   ]
  },
  {
   "cell_type": "code",
   "execution_count": 135,
   "metadata": {},
   "outputs": [],
   "source": [
    "import keras\n",
    "# It can be used to reconstruct the model identically.\n",
    "reconstructed_model = keras.models.load_model(\"gender_identifier\")\n",
    "\n",
    "# Let's check:\n",
    "np.testing.assert_allclose(\n",
    "    model.predict(validate_x), reconstructed_model.predict(validate_x)\n",
    ")"
   ]
  },
  {
   "cell_type": "code",
   "execution_count": 144,
   "metadata": {},
   "outputs": [
    {
     "data": {
      "text/html": [
       "<div>\n",
       "<style scoped>\n",
       "    .dataframe tbody tr th:only-of-type {\n",
       "        vertical-align: middle;\n",
       "    }\n",
       "\n",
       "    .dataframe tbody tr th {\n",
       "        vertical-align: top;\n",
       "    }\n",
       "\n",
       "    .dataframe thead th {\n",
       "        text-align: right;\n",
       "    }\n",
       "</style>\n",
       "<table border=\"1\" class=\"dataframe\">\n",
       "  <thead>\n",
       "    <tr style=\"text-align: right;\">\n",
       "      <th></th>\n",
       "      <th>names</th>\n",
       "      <th>is_male</th>\n",
       "      <th>predicted_gender</th>\n",
       "      <th>predicted_is_male</th>\n",
       "    </tr>\n",
       "  </thead>\n",
       "  <tbody>\n",
       "  </tbody>\n",
       "</table>\n",
       "</div>"
      ],
      "text/plain": [
       "Empty DataFrame\n",
       "Columns: [names, is_male, predicted_gender, predicted_is_male]\n",
       "Index: []"
      ]
     },
     "execution_count": 144,
     "metadata": {},
     "output_type": "execute_result"
    }
   ],
   "source": [
    "validate['predicted_is_male'] = [1 if prediction[0] > prediction[1] else -1 for prediction in reconstructed_model.predict(validate_x)]\n",
    "validate[validate['is_male'] != validate['is_male']].head()"
   ]
  },
  {
   "cell_type": "code",
   "execution_count": 140,
   "metadata": {},
   "outputs": [
    {
     "name": "stdout",
     "output_type": "stream",
     "text": [
      "Model: \"sequential_5\"\n",
      "_________________________________________________________________\n",
      "Layer (type)                 Output Shape              Param #   \n",
      "=================================================================\n",
      "lstm_5 (LSTM)                (None, 240)               260160    \n",
      "_________________________________________________________________\n",
      "dropout_5 (Dropout)          (None, 240)               0         \n",
      "_________________________________________________________________\n",
      "dense_5 (Dense)              (None, 2)                 482       \n",
      "_________________________________________________________________\n",
      "activation_5 (Activation)    (None, 2)                 0         \n",
      "=================================================================\n",
      "Total params: 260,642\n",
      "Trainable params: 260,642\n",
      "Non-trainable params: 0\n",
      "_________________________________________________________________\n"
     ]
    }
   ],
   "source": [
    "reconstructed_model.summary()\n",
    "# Input is 12 x 30, hence the longest name permissable with this trained dataframe is 12 characters\n",
    "def predict_unsure(row, col_name, model):\n",
    "    if row['is_male'] == 0:\n",
    "        name = row['col_name']\n",
    "        encoded_name = np.asarray(name_encoding(normalize(name)))\n",
    "        prediction = model.predict(encoded_name)\n",
    "        return prediction\n",
    "    else:\n",
    "        return row['is_male']\n",
    "\n",
    "def predict_irecommend(df, col_name = 'names'):\n",
    "    \n",
    "    neural_network = keras.models.load_model(\"gender_identifier\")\n",
    "    \n",
    "    predictor_col = 'names'\n",
    "    unsure_names = df[df.ismale == 0]\n",
    "    names_array =  np.asarray([np.asarray(name_encoding(normalize(name))) for name in unsure_names[col_name]])\n",
    "    df['predicted_is_male'] = df.apply(predict_unsure, axis = 1, args = [col_name, neural_network])"
   ]
  },
  {
   "cell_type": "code",
   "execution_count": 188,
   "metadata": {},
   "outputs": [
    {
     "data": {
      "text/plain": [
       "array([[0.9016669 , 0.09833317]], dtype=float32)"
      ]
     },
     "execution_count": 188,
     "metadata": {},
     "output_type": "execute_result"
    }
   ],
   "source": [
    "model.predict(np.asarray([name_encoding(normalize('khalid'))]))"
   ]
  },
  {
   "cell_type": "code",
   "execution_count": 189,
   "metadata": {},
   "outputs": [
    {
     "data": {
      "text/plain": [
       "array([[0.4092723 , 0.59072775],\n",
       "       [0.6327217 , 0.36727825],\n",
       "       [0.9937109 , 0.00628912],\n",
       "       [0.3433697 , 0.65663034],\n",
       "       [0.0010017 , 0.99899834],\n",
       "       [0.9700529 , 0.02994711]], dtype=float32)"
      ]
     },
     "execution_count": 189,
     "metadata": {},
     "output_type": "execute_result"
    }
   ],
   "source": [
    "k_names = ['emily', 'rory', 'alfred', 'georgie', 'mia', 'benton']\n",
    "a = np.asarray([name_encoding(normalize(name)) for name in k_names])\n",
    "model.predict(a)"
   ]
  },
  {
   "cell_type": "code",
   "execution_count": 154,
   "metadata": {},
   "outputs": [
    {
     "data": {
      "text/plain": [
       "(402, 12, 30)"
      ]
     },
     "execution_count": 154,
     "metadata": {},
     "output_type": "execute_result"
    }
   ],
   "source": [
    "validate_x.shape"
   ]
  },
  {
   "cell_type": "code",
   "execution_count": null,
   "metadata": {},
   "outputs": [],
   "source": []
  }
 ],
 "metadata": {
  "kernelspec": {
   "display_name": "Python 3",
   "language": "python",
   "name": "python3"
  },
  "language_info": {
   "codemirror_mode": {
    "name": "ipython",
    "version": 3
   },
   "file_extension": ".py",
   "mimetype": "text/x-python",
   "name": "python",
   "nbconvert_exporter": "python",
   "pygments_lexer": "ipython3",
   "version": "3.7.2"
  }
 },
 "nbformat": 4,
 "nbformat_minor": 4
}
